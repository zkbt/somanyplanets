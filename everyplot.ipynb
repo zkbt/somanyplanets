{
 "cells": [
  {
   "cell_type": "markdown",
   "metadata": {},
   "source": [
    "This notebook makes lots of different plots of the population of known exoplanets, based on the contributions of many different folks sharing the same github repository. "
   ]
  },
  {
   "cell_type": "code",
   "execution_count": null,
   "metadata": {
    "collapsed": false
   },
   "outputs": [],
   "source": [
    "import matplotlib.pyplot as plt\n",
    "import numpy as np\n",
    "%matplotlib inline"
   ]
  },
  {
   "cell_type": "code",
   "execution_count": null,
   "metadata": {
    "collapsed": false
   },
   "outputs": [],
   "source": [
    "# search for *.py files in the \"individual\" directory\n",
    "import glob, os, importlib\n",
    "files = glob.glob('individual/*.py')\n",
    "\n",
    "# create an empty list; it *will* contain imported modules\n",
    "contributions = []\n",
    "\n",
    "# loop over files\n",
    "for f in files:\n",
    "    \n",
    "    # pull out the base of this filename\n",
    "    this = os.path.basename(f).split('.py')[0]\n",
    "\n",
    "    # skip a couple of the *.py files we don't want to include\n",
    "    if (this != 'basics') and (this != '__init__'):\n",
    "\n",
    "        \n",
    "        # import this module, and store it as `module`\n",
    "        print \"Loading {} into the list of contributions.\".format(this)\n",
    "        module = importlib.import_module('individual.{}'.format(this))\n",
    "        \n",
    "        # include that `module` in the list of contributions\n",
    "        contributions.append(module)"
   ]
  },
  {
   "cell_type": "code",
   "execution_count": null,
   "metadata": {
    "collapsed": false
   },
   "outputs": [],
   "source": [
    "# loop through all the contributions\n",
    "for i, c in enumerate(contributions):\n",
    "\n",
    "    # plot this plot\n",
    "    c.makeplot()\n",
    "    \n",
    "    # adjust the title\n",
    "    ax = plt.gca()\n",
    "    newtitle = '{}\\n by {}'.format(ax.get_title(), c.myname)\n",
    "    plt.title(newtitle)\n",
    "    \n",
    "    # show the plot\n",
    "    plt.show()"
   ]
  }
 ],
 "metadata": {
  "kernelspec": {
   "display_name": "Python 2",
   "language": "python",
   "name": "python2"
  },
  "language_info": {
   "codemirror_mode": {
    "name": "ipython",
    "version": 2
   },
   "file_extension": ".py",
   "mimetype": "text/x-python",
   "name": "python",
   "nbconvert_exporter": "python",
   "pygments_lexer": "ipython2",
   "version": "2.7.13"
  }
 },
 "nbformat": 4,
 "nbformat_minor": 2
}
