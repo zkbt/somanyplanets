{
 "cells": [
  {
   "cell_type": "markdown",
   "metadata": {},
   "source": [
    "Use this notebook to modify your plotting function. Once you are satisfied with it, you will then copy and paste that plotting function into a separate text file called `plot_youridentikey.py` (replacing youridentikey with your identikey). "
   ]
  },
  {
   "cell_type": "raw",
   "metadata": {},
   "source": [
    "# The possible column names for the data table are as follows:\n",
    "#\n",
    "# name = name of the planet\n",
    "# RA = right ascension of the system on the sky (in degrees)\n",
    "# Dec = declination of the system on the sky (in degrees)\n",
    "# magnitude_J = brightness of the star (in J-band, 1.1-1.3 microns; magnitudes)\n",
    "# distance = distance to the star, in parsecs\n",
    "# stellar_mass = mass of the star, in solar masses\n",
    "# stellar_radius = radius of the star, in solar radii\n",
    "# stellar_luminosity = luminosity of the star, relative to the Sun\n",
    "# stellar_temperature = temperature of the star, in K\n",
    "# planet_mass = mass of planet, in Earth masses\n",
    "# planet_radius = radius of planet, in Earth radii\n",
    "# planet_period = period of planet, in days\n",
    "# planet_semimajor = semimajor axis of planet's orbit, in AU\n",
    "# planet_heatreceived = the flux of heat received by the planet, in W/m^2 (for comparison, Earth receives 1360 W/m^2 from the Sun)\n",
    "# transit_depth = the fraction of starlight the planet blocks\n",
    "#"
   ]
  },
  {
   "cell_type": "code",
   "execution_count": null,
   "metadata": {
    "collapsed": true
   },
   "outputs": [],
   "source": [
    "\n",
    "# basic imports\n",
    "import matplotlib.pyplot as plt\n",
    "import numpy as np\n",
    "\n",
    "# load the data table (as defined in basics.py)\n",
    "from basics import data\n",
    "\n",
    "# MODIFY this to be your name!\n",
    "myname = \"Zach Berta-Thompson\"\n",
    "\n",
    "# create a function definition\n",
    "def makeplot():\n",
    "\n",
    "    # MODIFY this to plot different columns!\n",
    "    # pull out columns from the data table\n",
    "    x = data['planet_heatreceived']\n",
    "    y = data['planet_radius']\n",
    "\n",
    "    # you may want to MODIFY this to make it prettier\n",
    "    # plot the data points\n",
    "    plt.scatter(x, y, alpha=0.5,\n",
    "                      marker='o',\n",
    "                      color='mediumorchid',\n",
    "                      edgecolor='none')\n",
    "\n",
    "    # you may need to MODIFY these limits to zoom in or out\n",
    "    # set the x and y limits to the min/max of the non-nan numbers\n",
    "    plt.xlim(np.nanmin(x), np.nanmax(x))\n",
    "    plt.ylim(np.nanmin(y), np.nanmax(y))\n",
    "\n",
    "    # you may need to MODIFY this\n",
    "    # make the scale be logarithmic or linear\n",
    "    plt.xscale('log') # 'log' or 'linear' are possible x scales\n",
    "    plt.yscale('log') # 'log' or 'linear' are possible x scales\n",
    "\n",
    "    # add title and labels\n",
    "    plt.title(\"Some planets are hot!\")\n",
    "    plt.xlabel('Heat Received by Planet (W/m$^2$)')\n",
    "    plt.ylabel('Planet Radius (Earth radii)')"
   ]
  },
  {
   "cell_type": "code",
   "execution_count": null,
   "metadata": {
    "collapsed": false
   },
   "outputs": [],
   "source": [
    "%matplotlib inline\n",
    "makeplot()"
   ]
  }
 ],
 "metadata": {
  "kernelspec": {
   "display_name": "Python 2",
   "language": "python",
   "name": "python2"
  },
  "language_info": {
   "codemirror_mode": {
    "name": "ipython",
    "version": 2
   },
   "file_extension": ".py",
   "mimetype": "text/x-python",
   "name": "python",
   "nbconvert_exporter": "python",
   "pygments_lexer": "ipython2",
   "version": "2.7.13"
  }
 },
 "nbformat": 4,
 "nbformat_minor": 2
}
